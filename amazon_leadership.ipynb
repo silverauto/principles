{
 "cells": [
  {
   "cell_type": "markdown",
   "metadata": {},
   "source": [
    "# Amazon Leadership Principles\n",
    "### Index <a id='Index'></a>\n",
    "\n",
    "- [Customer Obsession](#customer)\n",
    "- [Ownership](#owner)\n",
    "- [Invent and Simplify](#invent)\n",
    "- [Are Right, A Lot](#right)\n",
    "- [Learn and Be Curious](#learn)\n",
    "- [Hire and Develop the Best](#best)\n",
    "- [Insist on the Highest Standards](#standards)\n",
    "- [Think Big](#think)\n",
    "- [Bias for Action](#action)\n",
    "- [Frugality](#frugality)\n",
    "- [Earn Trust](#trust)\n",
    "- [Dive Deep](#dive)\n",
    "- [Have Backbone; Disagree and Commit](#commit)\n",
    "- [Deliver Results](#results)\n",
    "---"
   ]
  },
  {
   "cell_type": "markdown",
   "metadata": {},
   "source": [
    "### Customer Obsession <a id='customer'></a>\n",
    "\n",
    "*Leaders start with the customer and work backwards. They work vigorously to earn and keep customer trust. Although leaders pay attention to competitors, they obsess over customers.*\n",
    "\n",
    "**So the first days in a new job, I was handed the the clients the previous person in the role had. When going through the list with my manager, he told me of a project that had been on stand by for about a year and a half and that he didn't think it will be done. But he told me to keep the client happy because they had many other projects with other of our businesses units. So I called to present myself and asked to visit, review the project and walkthrough the facilities. Being there, walking through the plant we addressed many doubts and concerns he had on the project and told me that this was the first time in more than a year that anyone from my company visited the plant. Two months later they were giving green light to the project**\n",
    "\n",
    "[Back](#Index)"
   ]
  },
  {
   "cell_type": "markdown",
   "metadata": {},
   "source": [
    "### Ownership <a id='owner'></a>\n",
    "\n",
    "*Leaders are owners. They think long term and don’t sacrifice long-term value for short-term results. They act on behalf of the entire company, beyond just their own team. They never say “that’s not my job\".*\n",
    "\n",
    "**Work as if this was your company, because it is. Projects on counties, specially big ones can get out of hand pretty easily. Crime in Mexico was a random variable that we were at first not able to forsee and that was slowing our progress. My role was primarily programming controllers and that was done at the office, but the need was for someone to help the field engineers to get back on track. I worked so that the controllers were finished and raised my hand to go and help them, it was a very nice experience as I was able to know them better and a sense of camaradery rose that made working much more fun.**\n",
    "\n",
    "[Back](#Index)"
   ]
  },
  {
   "cell_type": "markdown",
   "metadata": {},
   "source": [
    "### Invent and Simplify <a id='invent'></a>\n",
    "\n",
    "*Leaders expect and require innovation and invention from their teams and always find ways to simplify. They are externally aware, look for new ideas from everywhere, and are not limited by “not invented here\". As we do new things, we accept that we may be misunderstood for long periods of time.*\n",
    "\n",
    "**I was new at this company, and they had a way of work and processes they were used to. The work there happened on burst with around eight very busy months and four more relaxed ones. As part of the engineering team my main role was to program control systems for street lighting circuits, but I saw that many of the projects took very long to be designed, so in my spare time I saw the tools they were using to do it and started working to optimize them. When I finish I presented it to the engineering team which were greatly pleased and started using immediately, the time for designing a new project went from an average of two weeks to just one.**\n",
    "\n",
    "[Back](#Index)"
   ]
  },
  {
   "cell_type": "markdown",
   "metadata": {},
   "source": [
    "### Are Right, A Lot <a id='right'></a>\n",
    "\n",
    "*Leaders are right a lot. They have strong judgment and good instincts. They seek diverse perspectives and work to disconfirm their beliefs.*\n",
    "\n",
    "**'The more I practice the luckier I get.' There are people that make things look easy, be it coding or playing a sport. People for which doing them is a second nature. The keys is constant correct practice. Constant, as talent can only carry you so far, you need to work hard and the harder you work (and study and practice) the easier it becomes to do it. Correct, because practicing incorrecly will only make you be very good at being wrong, that is why you get out of your bubble, your confort zone and listen to what other leaders in the area have achieve and understand their point of view. Being right makes you being fast, as you don't need to second guess or check how and why things are done.**\n",
    "\n",
    "[Back](#Index)"
   ]
  },
  {
   "cell_type": "markdown",
   "metadata": {},
   "source": [
    "### Learn and Be Curious <a id='learn'></a>\n",
    "\n",
    "*Leaders are never done learning and always seek to improve themselves. They are curious about new possibilities and act to explore them.*\n",
    "\n",
    "**As an energy consultant, my main goal was to provide our clients with tools to lower their utilities costs and their carbon footprint. For that we had a software and hardware which was our solution, what we offered our clients. However I saw that at the end of the day, the client was presented with the data but without a plan or action to do something with it. It depended entirely on the client how to get the best used of the expensive software they bought, and most of the clients didn't have an energy specialist or someone who understood in depth the data provided.**\n",
    "\n",
    "**I created a supplementary guide template that I customized for every client, and held a training session with the people involved. But the more I dug into data, the more I realized its potential and began learning more tools for statistical inference which eventually transformed into my path into machine learning and data science.**\n",
    "\n",
    "[Back](#Index)"
   ]
  },
  {
   "cell_type": "markdown",
   "metadata": {},
   "source": [
    "### Hire and Develop the Best  <a id='best'></a>\n",
    "\n",
    "*Leaders raise the performance bar with every hire and promotion. They recognize exceptional talent, and willingly move them throughout the organization. Leaders develop leaders and take seriously their role in coaching others. We work on behalf of our people to invent mechanisms for development like Career Choice.*\n",
    "\n",
    "**Being the best is about talent, passion, constant feedback, discipline and humility. The best is and ideal to be constantly overcome, and ideal that is easier to reach than to remain at. I believe it is more about doing that being, a cosntant motion that keeps raising the bar. I have been part sometimes of the hiring process, and while knowledge and skills are very important I also focused on assesing the character and vision of the person, a teamplayer and a leader.**\n",
    "\n",
    "[Back](#Index)"
   ]
  },
  {
   "cell_type": "markdown",
   "metadata": {},
   "source": [
    "### Insist on Highest Standards <a id='standards'></a>\n",
    "\n",
    "*Leaders have relentlessly high standards - many people may think these standards are unreasonably high. Leaders are continually raising the bar and driving their teams to deliver high quality products, services and processes. Leaders ensure that defects do not get sent down the line and that problems are fixed so they stay fixed.*\n",
    "\n",
    "**When developing an energy project, most of the time you deal with technical people and usually, if there is no energy deparment, with the maintenance people. Their job is quite demanding as nobody remembers them when things work ok, but if not they are subjects to lots of stress. I was asked for an energy efficiency project and the first presentation I had was with the forementioned maintenance manager, he didn't like it because it requested to stop some production lines for a day to install the equipment (understandable), however that was the best option in the long run. I explained this but was disuaded and changed the project.**\n",
    "\n",
    "**The last presentation held with directors and the CTO of the plant. Of the one hour I had to present I spent fourty minutes with the changed project and ten with the initial proposal and explained the points of view and the benefits of each one. The CTO undestood what needed to be done and the long run benefits of the second option and opted for that.**\n",
    "\n",
    "[Back](#Index)"
   ]
  },
  {
   "cell_type": "markdown",
   "metadata": {},
   "source": [
    "### Think Big <a id='think'></a>\n",
    "\n",
    "*Thinking small is a self-fulfilling prophecy. Leaders create and communicate a bold direction that inspires results. They think differently and look around corners for ways to serve customers.*\n",
    "\n",
    "**I believe you need to think big in things big and small, because to think big is really the safe bet. As an example, while working as a consultant, my main evaluation metrics were sales and my yearly quota was of two million dollars. I thought: what if they had asked me for three or four million dollars? Thus, I decided that my personal goal will be three million dollars, that way if I reached my goal automatically would have reached my quota, and if not, I had plenty of room to still meet it. That year I ended with 2.95 million dollars in sales, shy a hundread thousand from my goal but 48% over my quota.**\n",
    "\n",
    "[Back](#Index)"
   ]
  },
  {
   "cell_type": "markdown",
   "metadata": {},
   "source": [
    "### Bias for Action <a id='action'></a>\n",
    "\n",
    "*Speed matters in business. Many decisions and actions are reversible and do not need extensive study. We value calculated risk taking.*\n",
    "\n",
    "**When visiting a client, he told us that he had already been talking with a competing brand and that he was waiting for their proposal. I manage to get insight of the overall picture of what the project was about and told him that I believe it was very well planned, but that I was sure I could offer something better and that I wanted to show him. I sketched a design of the minimum installation as a proof of concept and talked with the projects team if they were able to work on the weekend (it was a Friday), they agreed and asked the client to go there on Saturday to install our equipment and show him that it worked. He hesitated but agreed, and I along the installations team were working that Saturday on the plant. After seeing it working he told me to give him a fully detailed proposal, which we prepared in a couple of days and delivered it. We won the project.**\n",
    "\n",
    "[Back](#Index)"
   ]
  },
  {
   "cell_type": "markdown",
   "metadata": {},
   "source": [
    "### Frugality <a id='frugality'></a>\n",
    "\n",
    "*Accomplish more with less. Constraints breed resourcefulness, self-sufficiency and invention. There are no extra points for growing headcount, budget size or fixed expense.*\n",
    "\n",
    "**After some time without a project in sight, the company was able to land two at about the same time. Being a small company cash flow had a greater impact and the projects were of performance contracting, they were paid with the savings. Apparently we needed a bigger headcount to deliver on time but at the same time more headcount was financially difficult, so the CEO asked us for ways to improve they way we work to minimize this. **\n",
    "\n",
    "**There was a tool used for calculations of savings using information from utilities invoices. For some projects where where over two thousand and we used to capture them manually. I realized that was a opportunity, at a time where scanners didn't had OCR, I asked to buy one and developed a small script with an OCR API that allowed to automatically capture the information, liberating the engineer from such task.**\n",
    "\n",
    "**In the end, through team labor and small and big contributions we manage to deploy both projects withou increasing headcount. There is always room for efficiency.**\n",
    "\n",
    "[Back](#Index)"
   ]
  },
  {
   "cell_type": "markdown",
   "metadata": {},
   "source": [
    "### Earn Trust <a id='trust'></a>\n",
    "\n",
    "*Leaders listen attentively, speak candidly, and treat others respectfully. They are vocally self-critical, even when doing so is awkward or embarrassing. Leaders do not believe their or their team’s body odor smells of perfume. They benchmark themselves and their teams against the best.*\n",
    "\n",
    "**I have learned in life that the best way to deal with mistakes is to accept them, learn from them, try to fix them if possible and move on. One time while gathering data for a solar project at a farm, I held a presentation to show the benefits of the project to the owner. While I was presenting, the owner said: 'Does the hill nearby have any influence in the calculations?' The hill, a tall hill casted a shadow over parts of the farm at certain times of the day and it wasn't accounted for in the calculations. I stopped to think about it for a second and said: No it isn't, thank you for bringing that up. I finished the presentation and back in the office I corrected the calculations and send them back. That same mail was answered shortly: 'We would like to continue with the project, I had no idea to know if the shadow of the hill was used in the calculations, but acknowledging it wasn't made me realize you were listening and honest.'**\n",
    "\n",
    "[Back](#Index)"
   ]
  },
  {
   "cell_type": "markdown",
   "metadata": {},
   "source": [
    "### Dive Deep <a id='dive'></a>\n",
    "\n",
    "*Leaders operate at all levels, stay connected to the details, audit frequently, and are skeptical when metrics and anecdote differ. No task is beneath them.*\n",
    "\n",
    "**For retrofit project of street lighting, it is customary to test the lamps on the streets of the county to have real measurments. The measurments are done on a nine points matrix drawn under the lamp. After many measurments, we had a database of the type of lamp, power and lux measurements. One time when perforing the measurements, the results came way off, the lamp seemed ok, the luxometer was recently calibrated so we were perplexed. I began measuring the voltage supplied, the datasheet of the lamp and then our database. From the database found out that in fact there was a extremely low probability of having those measurements with that lamp and setup. I found out later that the luxometer was broken. To avoid this situation in the future I developed a small model to show the likelihood of the results that proved useful again when the supplier of the lamps later found out they had mislabeled the power in some of the lamps.**\n",
    "\n",
    "[Back](#Index)"
   ]
  },
  {
   "cell_type": "markdown",
   "metadata": {},
   "source": [
    "### Have Backbone; Disagree and Commit <a id='commit'></a>\n",
    "\n",
    "*Leaders are obligated to respectfully challenge decisions when they disagree, even when doing so is uncomfortable or exhausting. Leaders have conviction and are tenacious. They do not compromise for the sake of social cohesion. Once a decision is determined, they commit wholly.*\n",
    "\n",
    "**Human interaction is an art. I have found that being respectful and a good listener can take you a long way. It is also very important to know the facts and the situation and let them talk, it is not to prove one is right but to show the reality is. One time we had a meeting, many people where there and so was my manager, he was advocating for something and I was for something else at the end the meeting ended up without resolution.**\n",
    "\n",
    "**Went back to my desk and prepared a small summary of my position with links to relevant information. He saw it next morning and sent and email to the meeting participants with his reviewed point of view of the situation telling them we went into depth to understand the issue.**\n",
    "\n",
    "[Back](#Index)"
   ]
  },
  {
   "cell_type": "markdown",
   "metadata": {},
   "source": [
    "### Deliver Results <a id='results'></a>\n",
    "\n",
    "*Leaders focus on the key inputs for their business and deliver them with the right quality and in a timely fashion. Despite setbacks, they rise to the occasion and never settle.*\n",
    "\n",
    "**Good intentions are great, but the path to hell is paved with them. To remain competitive you need to deliver on time. You need to plan for the worst, expect it and workaround, keep working. Work smart and hard, if you are doing what you love you will enjoy it, you wouldn't mind it and you will keep delivering.\n",
    "\n",
    "When in high school, it was very easy for me to get the results done, it took me minutes instead of hours some of the others took. The university proved to be a bigger challenge and at the end of the first semester I had being studying what for me was a lot (not being used to studying much), and ended up with barely ok notes. I felt it was unfair, but it wasn't. I was as always been graded by my results not my effort (less or more). When I understood that things improved quickly.**\n",
    "\n",
    "[Back](#Index)"
   ]
  }
 ],
 "metadata": {
  "kernelspec": {
   "display_name": "Python 3",
   "language": "python",
   "name": "python3"
  },
  "language_info": {
   "codemirror_mode": {
    "name": "ipython",
    "version": 3
   },
   "file_extension": ".py",
   "mimetype": "text/x-python",
   "name": "python",
   "nbconvert_exporter": "python",
   "pygments_lexer": "ipython3",
   "version": "3.6.0"
  }
 },
 "nbformat": 4,
 "nbformat_minor": 2
}
